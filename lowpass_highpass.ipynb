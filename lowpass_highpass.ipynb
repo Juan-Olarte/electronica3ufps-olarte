{
  "nbformat": 4,
  "nbformat_minor": 0,
  "metadata": {
    "colab": {
      "provenance": [],
      "authorship_tag": "ABX9TyMCIby6G4RlHHcO4UDwNJ22",
      "include_colab_link": true
    },
    "kernelspec": {
      "name": "python3",
      "display_name": "Python 3"
    },
    "language_info": {
      "name": "python"
    }
  },
  "cells": [
    {
      "cell_type": "markdown",
      "metadata": {
        "id": "view-in-github",
        "colab_type": "text"
      },
      "source": [
        "<a href=\"https://colab.research.google.com/github/Juan-Olarte/electronica3ufps-olarte/blob/main/lowpass_highpass.ipynb\" target=\"_parent\"><img src=\"https://colab.research.google.com/assets/colab-badge.svg\" alt=\"Open In Colab\"/></a>"
      ]
    },
    {
      "cell_type": "code",
      "execution_count": 3,
      "metadata": {
        "id": "-tSZnvSZB-iU"
      },
      "outputs": [],
      "source": [
        "import numpy as np\n",
        "import sympy\n",
        "import math"
      ]
    },
    {
      "cell_type": "markdown",
      "source": [
        "##Ejercicio 13.71:"
      ],
      "metadata": {
        "id": "ZwQTzPxfUcye"
      }
    },
    {
      "cell_type": "markdown",
      "source": [
        "Butterworth pasa-altas"
      ],
      "metadata": {
        "id": "HyTRUlb0Nf0l"
      }
    },
    {
      "cell_type": "code",
      "source": [],
      "metadata": {
        "id": "KxYT1Z8PUgC8"
      },
      "execution_count": null,
      "outputs": []
    },
    {
      "cell_type": "code",
      "source": [
        "butterworth_ai = np.array([1.9616, 1.6629, 1.1111, 0.3902])\n",
        "butterworth_bi = np.array([1,1,1,1])\n",
        "\n",
        "fchigh = 200\n",
        "\n",
        "capacitor = 100e-9\n",
        "highpass_butterworth_r1 = 1/(np.pi*fchigh*butterworth_ai[0]*capacitor)\n",
        "highpass_butterworth_r2 = butterworth_ai[0]/(4*np.pi*fchigh*butterworth_bi[0]*capacitor)\n",
        "\n",
        "print(f\"Highpass Butterworth R1: {highpass_butterworth_r1:.2f} ohms\")\n",
        "print(f\"Highpass Butterworth R2: {highpass_butterworth_r2:.2f} ohms\")\n",
        "print(f\"Highpass Butterworth C: {capacitor:.2e} farads\")"
      ],
      "metadata": {
        "colab": {
          "base_uri": "https://localhost:8080/"
        },
        "id": "Zx8tmOA3OpDr",
        "outputId": "df87c1d7-7baf-4d4d-ae0e-c924061f35fe"
      },
      "execution_count": 21,
      "outputs": [
        {
          "output_type": "stream",
          "name": "stdout",
          "text": [
            "Highpass Butterworth R1: 8113.53 ohms\n",
            "Highpass Butterworth R2: 7804.96 ohms\n",
            "Highpass Butterworth C: 1.00e-07 farads\n"
          ]
        }
      ]
    },
    {
      "cell_type": "code",
      "source": [
        "butterworth_ai = np.array([1.9616, 1.6629, 1.1111, 0.3902])\n",
        "butterworth_bi = np.array([1,1,1,1])\n",
        "\n",
        "fchigh = 200\n",
        "\n",
        "capacitor = 100e-9\n",
        "highpass_butterworth_r1 = 1/(np.pi*fchigh*butterworth_ai[1]*capacitor)\n",
        "highpass_butterworth_r2 = butterworth_ai[1]/(4*np.pi*fchigh*butterworth_bi[1]*capacitor)\n",
        "\n",
        "print(f\"Highpass Butterworth R1: {highpass_butterworth_r1:.2f} ohms\")\n",
        "print(f\"Highpass Butterworth R2: {highpass_butterworth_r2:.2f} ohms\")\n",
        "print(f\"Highpass Butterworth C: {capacitor:.2e} farads\")"
      ],
      "metadata": {
        "colab": {
          "base_uri": "https://localhost:8080/"
        },
        "id": "_GOFP0_TOo1l",
        "outputId": "c488a18b-65b5-41e7-b43c-783e089a999b"
      },
      "execution_count": 22,
      "outputs": [
        {
          "output_type": "stream",
          "name": "stdout",
          "text": [
            "Highpass Butterworth R1: 9570.93 ohms\n",
            "Highpass Butterworth R2: 6616.47 ohms\n",
            "Highpass Butterworth C: 1.00e-07 farads\n"
          ]
        }
      ]
    },
    {
      "cell_type": "code",
      "source": [
        "butterworth_ai = np.array([1.9616, 1.6629, 1.1111, 0.3902])\n",
        "butterworth_bi = np.array([1,1,1,1])\n",
        "\n",
        "fchigh = 200\n",
        "\n",
        "capacitor = 100e-9\n",
        "highpass_butterworth_r1 = 1/(np.pi*fchigh*butterworth_ai[2]*capacitor)\n",
        "highpass_butterworth_r2 = butterworth_ai[2]/(4*np.pi*fchigh*butterworth_bi[2]*capacitor)\n",
        "\n",
        "print(f\"Highpass Butterworth R1: {highpass_butterworth_r1:.2f} ohms\")\n",
        "print(f\"Highpass Butterworth R2: {highpass_butterworth_r2:.2f} ohms\")\n",
        "print(f\"Highpass Butterworth C: {capacitor:.2e} farads\")"
      ],
      "metadata": {
        "colab": {
          "base_uri": "https://localhost:8080/"
        },
        "id": "-49Itlr_NfkJ",
        "outputId": "c8e28734-aa58-4682-fbdb-ea73cd23d034"
      },
      "execution_count": 20,
      "outputs": [
        {
          "output_type": "stream",
          "name": "stdout",
          "text": [
            "Highpass Butterworth R1: 14324.09 ohms\n",
            "Highpass Butterworth R2: 4420.93 ohms\n",
            "Highpass Butterworth C: 1.00e-07 farads\n"
          ]
        }
      ]
    },
    {
      "cell_type": "code",
      "source": [
        "butterworth_ai = np.array([1.9616, 1.6629, 1.1111, 0.3902])\n",
        "butterworth_bi = np.array([1,1,1,1])\n",
        "\n",
        "fchigh = 200\n",
        "\n",
        "capacitor = 100e-9\n",
        "highpass_butterworth_r1 = 1/(np.pi*fchigh*butterworth_ai[3]*capacitor)\n",
        "highpass_butterworth_r2 = butterworth_ai[3]/(4*np.pi*fchigh*butterworth_bi[3]*capacitor)\n",
        "\n",
        "print(f\"Highpass Butterworth R1: {highpass_butterworth_r1:.2f} ohms\")\n",
        "print(f\"Highpass Butterworth R2: {highpass_butterworth_r2:.2f} ohms\")\n",
        "print(f\"Highpass Butterworth C: {capacitor:.2e} farads\")"
      ],
      "metadata": {
        "colab": {
          "base_uri": "https://localhost:8080/"
        },
        "id": "0TeO_ON6PdKu",
        "outputId": "7fb89097-03b5-4625-d586-82635f35aac6"
      },
      "execution_count": 23,
      "outputs": [
        {
          "output_type": "stream",
          "name": "stdout",
          "text": [
            "Highpass Butterworth R1: 40788.04 ohms\n",
            "Highpass Butterworth R2: 1552.56 ohms\n",
            "Highpass Butterworth C: 1.00e-07 farads\n"
          ]
        }
      ]
    },
    {
      "cell_type": "markdown",
      "source": [
        "Butterworth pasabajas"
      ],
      "metadata": {
        "id": "Voyl-w-hNaRu"
      }
    },
    {
      "cell_type": "code",
      "source": [
        "butterworth_ai = np.array([1.9616, 1.6629, 1.1111, 0.3902])\n",
        "butterworth_bi = np.array([1,1,1,1])\n",
        "\n",
        "fclow = 18\n",
        "\n",
        "capacitor1 = 220e-9\n",
        "capacitor2 = 1.1*(4/(butterworth_ai[0])**2)*capacitor1\n",
        "(butterworth_ai[0]*capacitor2)**2\n",
        "lowpass_butterworth_r1_1 = ((butterworth_ai[0]*capacitor2)-(np.sqrt((butterworth_ai[0]*capacitor2)**2 - (4*butterworth_bi[0]*capacitor1*capacitor2))))/(4*np.pi*fclow*capacitor1*capacitor2)\n",
        "lowpass_butterworth_r2_1 = ((butterworth_ai[0]*capacitor2)+(np.sqrt((butterworth_ai[0]*capacitor2)**2 - (4*butterworth_bi[0]*capacitor1*capacitor2))))/(4*np.pi*fclow*capacitor1*capacitor2)\n",
        "\n",
        "print(f\"Lowpass Butterworth R1: {lowpass_butterworth_r1_1:.2f} ohms\")\n",
        "print(f\"Lospass Butterworth R2: {lowpass_butterworth_r2_1:.2f} ohms\")\n",
        "print(f\"Lowpass Butterworth C1: {capacitor1:.2e} farads\")\n",
        "print(f\"Lowpass Butterworth C2: {capacitor2:.2e} farads\")"
      ],
      "metadata": {
        "colab": {
          "base_uri": "https://localhost:8080/"
        },
        "id": "Tt1v3jG0CcZ3",
        "outputId": "1480f7b0-3a86-462c-f0e6-16486e6310b3"
      },
      "execution_count": 26,
      "outputs": [
        {
          "output_type": "stream",
          "name": "stdout",
          "text": [
            "Lowpass Butterworth R1: 27533.71 ohms\n",
            "Lospass Butterworth R2: 51304.25 ohms\n",
            "Lowpass Butterworth C1: 2.20e-07 farads\n",
            "Lowpass Butterworth C2: 2.52e-07 farads\n"
          ]
        }
      ]
    },
    {
      "cell_type": "code",
      "source": [
        "butterworth_ai = np.array([1.9616, 1.6629, 1.1111, 0.3902])\n",
        "butterworth_bi = np.array([1, 1, 1, 1])\n",
        "\n",
        "fclow = 18\n",
        "\n",
        "capacitor1 = 220e-9\n",
        "# Use butterworth_ai[1] instead of butterworth_ai[0]\n",
        "capacitor2 = 1.1 * (4 / (butterworth_ai[1])**2) * capacitor1\n",
        "# Use butterworth_ai[1] and butterworth_bi[1] in calculations\n",
        "lowpass_butterworth_r1_1 = ((butterworth_ai[1] * capacitor2) - (np.sqrt((butterworth_ai[1] * capacitor2)**2 - (4 * butterworth_bi[1] * capacitor1 * capacitor2)))) / (4 * np.pi * fclow * capacitor1 * capacitor2)\n",
        "lowpass_butterworth_r2_1 = ((butterworth_ai[1] * capacitor2) + (np.sqrt((butterworth_ai[1] * capacitor2)**2 - (4 * butterworth_bi[1] * capacitor1 * capacitor2)))) / (4 * np.pi * fclow * capacitor1 * capacitor2)\n",
        "\n",
        "print(f\"Lowpass Butterworth R1: {lowpass_butterworth_r1_1:.2f} ohms\")\n",
        "print(f\"Lospass Butterworth R2: {lowpass_butterworth_r2_1:.2f} ohms\")\n",
        "print(f\"Lowpass Butterworth C1: {capacitor1:.2e} farads\")\n",
        "print(f\"Lowpass Butterworth C2: {capacitor2:.2e} farads\")"
      ],
      "metadata": {
        "colab": {
          "base_uri": "https://localhost:8080/"
        },
        "id": "CtoZzpL2RFXq",
        "outputId": "5e3e1139-fee9-4f41-987a-0442ed0d45ec"
      },
      "execution_count": 27,
      "outputs": [
        {
          "output_type": "stream",
          "name": "stdout",
          "text": [
            "Lowpass Butterworth R1: 23341.05 ohms\n",
            "Lospass Butterworth R2: 43491.97 ohms\n",
            "Lowpass Butterworth C1: 2.20e-07 farads\n",
            "Lowpass Butterworth C2: 3.50e-07 farads\n"
          ]
        }
      ]
    },
    {
      "cell_type": "code",
      "source": [
        "butterworth_ai = np.array([1.9616, 1.6629, 1.1111, 0.3902])\n",
        "butterworth_bi = np.array([1, 1, 1, 1])\n",
        "\n",
        "fclow = 18\n",
        "\n",
        "capacitor1 = 220e-9\n",
        "# Use butterworth_ai[2] for position 2\n",
        "capacitor2 = 1.1 * (4 / (butterworth_ai[2])**2) * capacitor1\n",
        "# Use butterworth_ai[2] and butterworth_bi[2] in calculations\n",
        "lowpass_butterworth_r1_1 = ((butterworth_ai[2] * capacitor2) - (np.sqrt((butterworth_ai[2] * capacitor2)**2 - (4 * butterworth_bi[2] * capacitor1 * capacitor2)))) / (4 * np.pi * fclow * capacitor1 * capacitor2)\n",
        "lowpass_butterworth_r2_1 = ((butterworth_ai[2] * capacitor2) + (np.sqrt((butterworth_ai[2] * capacitor2)**2 - (4 * butterworth_bi[2] * capacitor1 * capacitor2)))) / (4 * np.pi * fclow * capacitor1 * capacitor2)\n",
        "\n",
        "print(f\"Lowpass Butterworth R1: {lowpass_butterworth_r1_1:.2f} ohms\")\n",
        "print(f\"Lospass Butterworth R2: {lowpass_butterworth_r2_1:.2f} ohms\")\n",
        "print(f\"Lowpass Butterworth C1: {capacitor1:.2e} farads\")\n",
        "print(f\"Lowpass Butterworth C2: {capacitor2:.2e} farads\")"
      ],
      "metadata": {
        "colab": {
          "base_uri": "https://localhost:8080/"
        },
        "id": "NPUyoDSxRMho",
        "outputId": "54015da2-319b-41cf-ff44-1c7a4aea95c5"
      },
      "execution_count": 28,
      "outputs": [
        {
          "output_type": "stream",
          "name": "stdout",
          "text": [
            "Lowpass Butterworth R1: 15595.79 ohms\n",
            "Lospass Butterworth R2: 29060.03 ohms\n",
            "Lowpass Butterworth C1: 2.20e-07 farads\n",
            "Lowpass Butterworth C2: 7.84e-07 farads\n"
          ]
        }
      ]
    },
    {
      "cell_type": "code",
      "source": [
        "butterworth_ai = np.array([1.9616, 1.6629, 1.1111, 0.3902])\n",
        "butterworth_bi = np.array([1, 1, 1, 1])\n",
        "\n",
        "fclow = 18\n",
        "\n",
        "capacitor1 = 27e-9\n",
        "# Use butterworth_ai[3] for position 3\n",
        "capacitor2 = 1.1 * (4 / (butterworth_ai[3])**2) * capacitor1\n",
        "# Use butterworth_ai[3] and butterworth_bi[3] in calculations\n",
        "lowpass_butterworth_r1_1 = ((butterworth_ai[3] * capacitor2) - (np.sqrt((butterworth_ai[3] * capacitor2)**2 - (4 * butterworth_bi[3] * capacitor1 * capacitor2)))) / (4 * np.pi * fclow * capacitor1 * capacitor2)\n",
        "lowpass_butterworth_r2_1 = ((butterworth_ai[3] * capacitor2) + (np.sqrt((butterworth_ai[3] * capacitor2)**2 - (4 * butterworth_bi[3] * capacitor1 * capacitor2)))) / (4 * np.pi * fclow * capacitor1 * capacitor2)\n",
        "\n",
        "print(f\"Lowpass Butterworth R1: {lowpass_butterworth_r1_1:.2f} ohms\")\n",
        "print(f\"Lospass Butterworth R2: {lowpass_butterworth_r2_1:.2f} ohms\")\n",
        "print(f\"Lowpass Butterworth C1: {capacitor1:.2e} farads\")\n",
        "print(f\"Lowpass Butterworth C2: {capacitor2:.2e} farads\")"
      ],
      "metadata": {
        "colab": {
          "base_uri": "https://localhost:8080/"
        },
        "id": "aI5xJ_YHRPo6",
        "outputId": "016cdab6-6ff2-47bc-f3c5-7198d701a6fe"
      },
      "execution_count": 33,
      "outputs": [
        {
          "output_type": "stream",
          "name": "stdout",
          "text": [
            "Lowpass Butterworth R1: 44627.29 ohms\n",
            "Lospass Butterworth R2: 83155.14 ohms\n",
            "Lowpass Butterworth C1: 2.70e-08 farads\n",
            "Lowpass Butterworth C2: 7.80e-07 farads\n"
          ]
        }
      ]
    },
    {
      "cell_type": "markdown",
      "source": [
        "##Ejercicio 13.79"
      ],
      "metadata": {
        "id": "tLv_qp7mUh4X"
      }
    },
    {
      "cell_type": "code",
      "source": [
        "chebyshev1db_ai = np.array([6.3634,1.1399,0.3939,0.1616,0.0455])\n",
        "chebyshev1db_bi = np.array([22.7468,4.5167,1.9665,1.2569,1.0277])\n",
        "\n",
        "fclow = 2740\n",
        "\n",
        "capacitor1 = 22e-9\n",
        "# Change 1: Use chebyshev1db_ai instead of butterworth_ai\n",
        "capacitor2 = 1.1*((4*chebyshev1db_bi[0])/(chebyshev1db_ai[0])**2)*capacitor1\n",
        "# Change 2: Use chebyshev1db_ai and chebyshev1db_bi in calculations\n",
        "lowpass_chebyshev_r1_1 = ((chebyshev1db_ai[0]*capacitor2)-(np.sqrt((chebyshev1db_ai[0]*capacitor2)**2 - (4*chebyshev1db_bi[0]*capacitor1*capacitor2))))/(4*np.pi*fclow*capacitor1*capacitor2)\n",
        "lowpass_chebyshev_r2_1 = ((chebyshev1db_ai[0]*capacitor2)+(np.sqrt((chebyshev1db_ai[0]*capacitor2)**2 - (4*chebyshev1db_bi[0]*capacitor1*capacitor2))))/(4*np.pi*fclow*capacitor1*capacitor2)\n",
        "\n",
        "# Change 3: Update print statements to reflect Chebyshev calculations\n",
        "print(f\"ai coefficient: {chebyshev1db_ai[0]}\")\n",
        "print(f\"bi coefficient: {chebyshev1db_bi[0]}\")\n",
        "print(f\"Lowpass Chebyshev R1: {lowpass_chebyshev_r1_1:.2f} ohms\")\n",
        "print(f\"Lospass Chebyshev R2: {lowpass_chebyshev_r2_1:.2f} ohms\")\n",
        "print(f\"Lowpass Chebyshev C1: {capacitor1:.2e} farads\")\n",
        "print(f\"Lowpass Chebyshev C2: {capacitor2:.2e} farads\")"
      ],
      "metadata": {
        "colab": {
          "base_uri": "https://localhost:8080/"
        },
        "id": "Qr2RDY7UUlit",
        "outputId": "cf2cb98d-1414-48ca-de8e-2c8f5e9241b1"
      },
      "execution_count": 38,
      "outputs": [
        {
          "output_type": "stream",
          "name": "stdout",
          "text": [
            "ai coefficient: 6.3634\n",
            "bi coefficient: 22.7468\n",
            "Lowpass Chebyshev R1: 5867.67 ohms\n",
            "Lospass Chebyshev R2: 10933.37 ohms\n",
            "Lowpass Chebyshev C1: 2.20e-08 farads\n",
            "Lowpass Chebyshev C2: 5.44e-08 farads\n"
          ]
        }
      ]
    }
  ]
}