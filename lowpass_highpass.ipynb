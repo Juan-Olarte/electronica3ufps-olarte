{
  "nbformat": 4,
  "nbformat_minor": 0,
  "metadata": {
    "colab": {
      "provenance": [],
      "toc_visible": true,
      "authorship_tag": "ABX9TyOnE0nolFwOv3M10E5t3T+a",
      "include_colab_link": true
    },
    "kernelspec": {
      "name": "python3",
      "display_name": "Python 3"
    },
    "language_info": {
      "name": "python"
    }
  },
  "cells": [
    {
      "cell_type": "markdown",
      "metadata": {
        "id": "view-in-github",
        "colab_type": "text"
      },
      "source": [
        "<a href=\"https://colab.research.google.com/github/Juan-Olarte/electronica3ufps-olarte/blob/main/lowpass_highpass.ipynb\" target=\"_parent\"><img src=\"https://colab.research.google.com/assets/colab-badge.svg\" alt=\"Open In Colab\"/></a>"
      ]
    },
    {
      "cell_type": "code",
      "execution_count": 1,
      "metadata": {
        "id": "-tSZnvSZB-iU"
      },
      "outputs": [],
      "source": [
        "import numpy as np\n",
        "import sympy\n",
        "import math"
      ]
    },
    {
      "cell_type": "markdown",
      "source": [
        "##Ejercicio 13.71:"
      ],
      "metadata": {
        "id": "ZwQTzPxfUcye"
      }
    },
    {
      "cell_type": "markdown",
      "source": [
        "Butterworth pasa-altas"
      ],
      "metadata": {
        "id": "HyTRUlb0Nf0l"
      }
    },
    {
      "cell_type": "code",
      "source": [],
      "metadata": {
        "id": "KxYT1Z8PUgC8"
      },
      "execution_count": null,
      "outputs": []
    },
    {
      "cell_type": "code",
      "source": [
        "butterworth_ai = np.array([1.9616, 1.6629, 1.1111, 0.3902])\n",
        "butterworth_bi = np.array([1,1,1,1])\n",
        "\n",
        "fchigh = 200\n",
        "\n",
        "capacitor = 100e-9\n",
        "highpass_butterworth_r1 = 1/(np.pi*fchigh*butterworth_ai[0]*capacitor)\n",
        "highpass_butterworth_r2 = butterworth_ai[0]/(4*np.pi*fchigh*butterworth_bi[0]*capacitor)\n",
        "\n",
        "print(f\"Highpass Butterworth R1: {highpass_butterworth_r1:.2f} ohms\")\n",
        "print(f\"Highpass Butterworth R2: {highpass_butterworth_r2:.2f} ohms\")\n",
        "print(f\"Highpass Butterworth C: {capacitor:.2e} farads\")"
      ],
      "metadata": {
        "colab": {
          "base_uri": "https://localhost:8080/"
        },
        "id": "Zx8tmOA3OpDr",
        "outputId": "df87c1d7-7baf-4d4d-ae0e-c924061f35fe"
      },
      "execution_count": null,
      "outputs": [
        {
          "output_type": "stream",
          "name": "stdout",
          "text": [
            "Highpass Butterworth R1: 8113.53 ohms\n",
            "Highpass Butterworth R2: 7804.96 ohms\n",
            "Highpass Butterworth C: 1.00e-07 farads\n"
          ]
        }
      ]
    },
    {
      "cell_type": "code",
      "source": [
        "butterworth_ai = np.array([1.9616, 1.6629, 1.1111, 0.3902])\n",
        "butterworth_bi = np.array([1,1,1,1])\n",
        "\n",
        "fchigh = 200\n",
        "\n",
        "capacitor = 100e-9\n",
        "highpass_butterworth_r1 = 1/(np.pi*fchigh*butterworth_ai[1]*capacitor)\n",
        "highpass_butterworth_r2 = butterworth_ai[1]/(4*np.pi*fchigh*butterworth_bi[1]*capacitor)\n",
        "\n",
        "print(f\"Highpass Butterworth R1: {highpass_butterworth_r1:.2f} ohms\")\n",
        "print(f\"Highpass Butterworth R2: {highpass_butterworth_r2:.2f} ohms\")\n",
        "print(f\"Highpass Butterworth C: {capacitor:.2e} farads\")"
      ],
      "metadata": {
        "colab": {
          "base_uri": "https://localhost:8080/"
        },
        "id": "_GOFP0_TOo1l",
        "outputId": "c488a18b-65b5-41e7-b43c-783e089a999b"
      },
      "execution_count": null,
      "outputs": [
        {
          "output_type": "stream",
          "name": "stdout",
          "text": [
            "Highpass Butterworth R1: 9570.93 ohms\n",
            "Highpass Butterworth R2: 6616.47 ohms\n",
            "Highpass Butterworth C: 1.00e-07 farads\n"
          ]
        }
      ]
    },
    {
      "cell_type": "code",
      "source": [
        "butterworth_ai = np.array([1.9616, 1.6629, 1.1111, 0.3902])\n",
        "butterworth_bi = np.array([1,1,1,1])\n",
        "\n",
        "fchigh = 200\n",
        "\n",
        "capacitor = 100e-9\n",
        "highpass_butterworth_r1 = 1/(np.pi*fchigh*butterworth_ai[2]*capacitor)\n",
        "highpass_butterworth_r2 = butterworth_ai[2]/(4*np.pi*fchigh*butterworth_bi[2]*capacitor)\n",
        "\n",
        "print(f\"Highpass Butterworth R1: {highpass_butterworth_r1:.2f} ohms\")\n",
        "print(f\"Highpass Butterworth R2: {highpass_butterworth_r2:.2f} ohms\")\n",
        "print(f\"Highpass Butterworth C: {capacitor:.2e} farads\")"
      ],
      "metadata": {
        "colab": {
          "base_uri": "https://localhost:8080/"
        },
        "id": "-49Itlr_NfkJ",
        "outputId": "c8e28734-aa58-4682-fbdb-ea73cd23d034"
      },
      "execution_count": null,
      "outputs": [
        {
          "output_type": "stream",
          "name": "stdout",
          "text": [
            "Highpass Butterworth R1: 14324.09 ohms\n",
            "Highpass Butterworth R2: 4420.93 ohms\n",
            "Highpass Butterworth C: 1.00e-07 farads\n"
          ]
        }
      ]
    },
    {
      "cell_type": "code",
      "source": [
        "butterworth_ai = np.array([1.9616, 1.6629, 1.1111, 0.3902])\n",
        "butterworth_bi = np.array([1,1,1,1])\n",
        "\n",
        "fchigh = 200\n",
        "\n",
        "capacitor = 100e-9\n",
        "highpass_butterworth_r1 = 1/(np.pi*fchigh*butterworth_ai[3]*capacitor)\n",
        "highpass_butterworth_r2 = butterworth_ai[3]/(4*np.pi*fchigh*butterworth_bi[3]*capacitor)\n",
        "\n",
        "print(f\"Highpass Butterworth R1: {highpass_butterworth_r1:.2f} ohms\")\n",
        "print(f\"Highpass Butterworth R2: {highpass_butterworth_r2:.2f} ohms\")\n",
        "print(f\"Highpass Butterworth C: {capacitor:.2e} farads\")"
      ],
      "metadata": {
        "colab": {
          "base_uri": "https://localhost:8080/"
        },
        "id": "0TeO_ON6PdKu",
        "outputId": "7fb89097-03b5-4625-d586-82635f35aac6"
      },
      "execution_count": null,
      "outputs": [
        {
          "output_type": "stream",
          "name": "stdout",
          "text": [
            "Highpass Butterworth R1: 40788.04 ohms\n",
            "Highpass Butterworth R2: 1552.56 ohms\n",
            "Highpass Butterworth C: 1.00e-07 farads\n"
          ]
        }
      ]
    },
    {
      "cell_type": "markdown",
      "source": [
        "Butterworth pasabajas"
      ],
      "metadata": {
        "id": "Voyl-w-hNaRu"
      }
    },
    {
      "cell_type": "code",
      "source": [
        "butterworth_ai = np.array([1.9616, 1.6629, 1.1111, 0.3902])\n",
        "butterworth_bi = np.array([1,1,1,1])\n",
        "\n",
        "fclow = 18\n",
        "\n",
        "capacitor1 = 220e-9\n",
        "capacitor2 = 1.1*(4/(butterworth_ai[0])**2)*capacitor1\n",
        "(butterworth_ai[0]*capacitor2)**2\n",
        "lowpass_butterworth_r1_1 = ((butterworth_ai[0]*capacitor2)-(np.sqrt((butterworth_ai[0]*capacitor2)**2 - (4*butterworth_bi[0]*capacitor1*capacitor2))))/(4*np.pi*fclow*capacitor1*capacitor2)\n",
        "lowpass_butterworth_r2_1 = ((butterworth_ai[0]*capacitor2)+(np.sqrt((butterworth_ai[0]*capacitor2)**2 - (4*butterworth_bi[0]*capacitor1*capacitor2))))/(4*np.pi*fclow*capacitor1*capacitor2)\n",
        "\n",
        "print(f\"Lowpass Butterworth R1: {lowpass_butterworth_r1_1:.2f} ohms\")\n",
        "print(f\"Lospass Butterworth R2: {lowpass_butterworth_r2_1:.2f} ohms\")\n",
        "print(f\"Lowpass Butterworth C1: {capacitor1:.2e} farads\")\n",
        "print(f\"Lowpass Butterworth C2: {capacitor2:.2e} farads\")"
      ],
      "metadata": {
        "colab": {
          "base_uri": "https://localhost:8080/"
        },
        "id": "Tt1v3jG0CcZ3",
        "outputId": "1480f7b0-3a86-462c-f0e6-16486e6310b3"
      },
      "execution_count": null,
      "outputs": [
        {
          "output_type": "stream",
          "name": "stdout",
          "text": [
            "Lowpass Butterworth R1: 27533.71 ohms\n",
            "Lospass Butterworth R2: 51304.25 ohms\n",
            "Lowpass Butterworth C1: 2.20e-07 farads\n",
            "Lowpass Butterworth C2: 2.52e-07 farads\n"
          ]
        }
      ]
    },
    {
      "cell_type": "code",
      "source": [
        "butterworth_ai = np.array([1.9616, 1.6629, 1.1111, 0.3902])\n",
        "butterworth_bi = np.array([1, 1, 1, 1])\n",
        "\n",
        "fclow = 18\n",
        "\n",
        "capacitor1 = 220e-9\n",
        "# Use butterworth_ai[1] instead of butterworth_ai[0]\n",
        "capacitor2 = 1.1 * (4 / (butterworth_ai[1])**2) * capacitor1\n",
        "# Use butterworth_ai[1] and butterworth_bi[1] in calculations\n",
        "lowpass_butterworth_r1_1 = ((butterworth_ai[1] * capacitor2) - (np.sqrt((butterworth_ai[1] * capacitor2)**2 - (4 * butterworth_bi[1] * capacitor1 * capacitor2)))) / (4 * np.pi * fclow * capacitor1 * capacitor2)\n",
        "lowpass_butterworth_r2_1 = ((butterworth_ai[1] * capacitor2) + (np.sqrt((butterworth_ai[1] * capacitor2)**2 - (4 * butterworth_bi[1] * capacitor1 * capacitor2)))) / (4 * np.pi * fclow * capacitor1 * capacitor2)\n",
        "\n",
        "print(f\"Lowpass Butterworth R1: {lowpass_butterworth_r1_1:.2f} ohms\")\n",
        "print(f\"Lospass Butterworth R2: {lowpass_butterworth_r2_1:.2f} ohms\")\n",
        "print(f\"Lowpass Butterworth C1: {capacitor1:.2e} farads\")\n",
        "print(f\"Lowpass Butterworth C2: {capacitor2:.2e} farads\")"
      ],
      "metadata": {
        "colab": {
          "base_uri": "https://localhost:8080/"
        },
        "id": "CtoZzpL2RFXq",
        "outputId": "5e3e1139-fee9-4f41-987a-0442ed0d45ec"
      },
      "execution_count": null,
      "outputs": [
        {
          "output_type": "stream",
          "name": "stdout",
          "text": [
            "Lowpass Butterworth R1: 23341.05 ohms\n",
            "Lospass Butterworth R2: 43491.97 ohms\n",
            "Lowpass Butterworth C1: 2.20e-07 farads\n",
            "Lowpass Butterworth C2: 3.50e-07 farads\n"
          ]
        }
      ]
    },
    {
      "cell_type": "code",
      "source": [
        "butterworth_ai = np.array([1.9616, 1.6629, 1.1111, 0.3902])\n",
        "butterworth_bi = np.array([1, 1, 1, 1])\n",
        "\n",
        "fclow = 18\n",
        "\n",
        "capacitor1 = 220e-9\n",
        "# Use butterworth_ai[2] for position 2\n",
        "capacitor2 = 1.1 * (4 / (butterworth_ai[2])**2) * capacitor1\n",
        "# Use butterworth_ai[2] and butterworth_bi[2] in calculations\n",
        "lowpass_butterworth_r1_1 = ((butterworth_ai[2] * capacitor2) - (np.sqrt((butterworth_ai[2] * capacitor2)**2 - (4 * butterworth_bi[2] * capacitor1 * capacitor2)))) / (4 * np.pi * fclow * capacitor1 * capacitor2)\n",
        "lowpass_butterworth_r2_1 = ((butterworth_ai[2] * capacitor2) + (np.sqrt((butterworth_ai[2] * capacitor2)**2 - (4 * butterworth_bi[2] * capacitor1 * capacitor2)))) / (4 * np.pi * fclow * capacitor1 * capacitor2)\n",
        "\n",
        "print(f\"Lowpass Butterworth R1: {lowpass_butterworth_r1_1:.2f} ohms\")\n",
        "print(f\"Lospass Butterworth R2: {lowpass_butterworth_r2_1:.2f} ohms\")\n",
        "print(f\"Lowpass Butterworth C1: {capacitor1:.2e} farads\")\n",
        "print(f\"Lowpass Butterworth C2: {capacitor2:.2e} farads\")"
      ],
      "metadata": {
        "colab": {
          "base_uri": "https://localhost:8080/"
        },
        "id": "NPUyoDSxRMho",
        "outputId": "54015da2-319b-41cf-ff44-1c7a4aea95c5"
      },
      "execution_count": null,
      "outputs": [
        {
          "output_type": "stream",
          "name": "stdout",
          "text": [
            "Lowpass Butterworth R1: 15595.79 ohms\n",
            "Lospass Butterworth R2: 29060.03 ohms\n",
            "Lowpass Butterworth C1: 2.20e-07 farads\n",
            "Lowpass Butterworth C2: 7.84e-07 farads\n"
          ]
        }
      ]
    },
    {
      "cell_type": "code",
      "source": [
        "butterworth_ai = np.array([1.9616, 1.6629, 1.1111, 0.3902])\n",
        "butterworth_bi = np.array([1, 1, 1, 1])\n",
        "\n",
        "fclow = 18\n",
        "\n",
        "capacitor1 = 27e-9\n",
        "# Use butterworth_ai[3] for position 3\n",
        "capacitor2 = 1.1 * (4 / (butterworth_ai[3])**2) * capacitor1\n",
        "# Use butterworth_ai[3] and butterworth_bi[3] in calculations\n",
        "lowpass_butterworth_r1_1 = ((butterworth_ai[3] * capacitor2) - (np.sqrt((butterworth_ai[3] * capacitor2)**2 - (4 * butterworth_bi[3] * capacitor1 * capacitor2)))) / (4 * np.pi * fclow * capacitor1 * capacitor2)\n",
        "lowpass_butterworth_r2_1 = ((butterworth_ai[3] * capacitor2) + (np.sqrt((butterworth_ai[3] * capacitor2)**2 - (4 * butterworth_bi[3] * capacitor1 * capacitor2)))) / (4 * np.pi * fclow * capacitor1 * capacitor2)\n",
        "\n",
        "print(f\"Lowpass Butterworth R1: {lowpass_butterworth_r1_1:.2f} ohms\")\n",
        "print(f\"Lospass Butterworth R2: {lowpass_butterworth_r2_1:.2f} ohms\")\n",
        "print(f\"Lowpass Butterworth C1: {capacitor1:.2e} farads\")\n",
        "print(f\"Lowpass Butterworth C2: {capacitor2:.2e} farads\")"
      ],
      "metadata": {
        "colab": {
          "base_uri": "https://localhost:8080/"
        },
        "id": "aI5xJ_YHRPo6",
        "outputId": "016cdab6-6ff2-47bc-f3c5-7198d701a6fe"
      },
      "execution_count": null,
      "outputs": [
        {
          "output_type": "stream",
          "name": "stdout",
          "text": [
            "Lowpass Butterworth R1: 44627.29 ohms\n",
            "Lospass Butterworth R2: 83155.14 ohms\n",
            "Lowpass Butterworth C1: 2.70e-08 farads\n",
            "Lowpass Butterworth C2: 7.80e-07 farads\n"
          ]
        }
      ]
    },
    {
      "cell_type": "markdown",
      "source": [
        "##Ejercicio 13.79"
      ],
      "metadata": {
        "id": "tLv_qp7mUh4X"
      }
    },
    {
      "cell_type": "code",
      "source": [
        "chebyshev1db_ai = np.array([6.3634,1.1399,0.3939,0.1616,0.0455])\n",
        "chebyshev1db_bi = np.array([22.7468,4.5167,1.9665,1.2569,1.0277])\n",
        "\n",
        "fclow = 2740\n",
        "\n",
        "capacitor1 = 22e-9\n",
        "# Change 1: Use chebyshev1db_ai instead of butterworth_ai\n",
        "capacitor2 = 1.1*((4*chebyshev1db_bi[0])/(chebyshev1db_ai[0])**2)*capacitor1\n",
        "# Change 2: Use chebyshev1db_ai and chebyshev1db_bi in calculations\n",
        "lowpass_chebyshev_r1_1 = ((chebyshev1db_ai[0]*capacitor2)-(np.sqrt((chebyshev1db_ai[0]*capacitor2)**2 - (4*chebyshev1db_bi[0]*capacitor1*capacitor2))))/(4*np.pi*fclow*capacitor1*capacitor2)\n",
        "lowpass_chebyshev_r2_1 = ((chebyshev1db_ai[0]*capacitor2)+(np.sqrt((chebyshev1db_ai[0]*capacitor2)**2 - (4*chebyshev1db_bi[0]*capacitor1*capacitor2))))/(4*np.pi*fclow*capacitor1*capacitor2)\n",
        "\n",
        "# Change 3: Update print statements to reflect Chebyshev calculations\n",
        "print(f\"ai coefficient: {chebyshev1db_ai[0]}\")\n",
        "print(f\"bi coefficient: {chebyshev1db_bi[0]}\")\n",
        "print(f\"Lowpass Chebyshev R1: {lowpass_chebyshev_r1_1:.2f} ohms\")\n",
        "print(f\"Lospass Chebyshev R2: {lowpass_chebyshev_r2_1:.2f} ohms\")\n",
        "print(f\"Lowpass Chebyshev C1: {capacitor1:.2e} farads\")\n",
        "print(f\"Lowpass Chebyshev C2: {capacitor2:.2e} farads\")"
      ],
      "metadata": {
        "colab": {
          "base_uri": "https://localhost:8080/"
        },
        "id": "Qr2RDY7UUlit",
        "outputId": "cf2cb98d-1414-48ca-de8e-2c8f5e9241b1"
      },
      "execution_count": null,
      "outputs": [
        {
          "output_type": "stream",
          "name": "stdout",
          "text": [
            "ai coefficient: 6.3634\n",
            "bi coefficient: 22.7468\n",
            "Lowpass Chebyshev R1: 5867.67 ohms\n",
            "Lospass Chebyshev R2: 10933.37 ohms\n",
            "Lowpass Chebyshev C1: 2.20e-08 farads\n",
            "Lowpass Chebyshev C2: 5.44e-08 farads\n"
          ]
        }
      ]
    },
    {
      "cell_type": "code",
      "source": [
        "chebyshev1db_ai = np.array([6.3634, 1.1399, 0.3939, 0.1616, 0.0455])\n",
        "chebyshev1db_bi = np.array([22.7468, 4.5167, 1.9665, 1.2569, 1.0277])\n",
        "\n",
        "fclow = 2740\n",
        "\n",
        "capacitor1 = 2.2e-9\n",
        "# Change 1: Use chebyshev1db_ai[1] and chebyshev1db_bi[1]\n",
        "capacitor2 = 1.1 * ((4 * chebyshev1db_bi[1]) / (chebyshev1db_ai[1])**2) * capacitor1\n",
        "# Change 2: Use chebyshev1db_ai[1] and chebyshev1db_bi[1] in calculations\n",
        "lowpass_chebyshev_r1_1 = ((chebyshev1db_ai[1] * capacitor2) - (np.sqrt((chebyshev1db_ai[1] * capacitor2)**2 - (4 * chebyshev1db_bi[1] * capacitor1 * capacitor2)))) / (4 * np.pi * fclow * capacitor1 * capacitor2)\n",
        "lowpass_chebyshev_r2_1 = ((chebyshev1db_ai[1] * capacitor2) + (np.sqrt((chebyshev1db_ai[1] * capacitor2)**2 - (4 * chebyshev1db_bi[1] * capacitor1 * capacitor2)))) / (4 * np.pi * fclow * capacitor1 * capacitor2)\n",
        "\n",
        "# Change 3: Update print statements to reflect Chebyshev calculations and position\n",
        "print(f\"ai coefficient: {chebyshev1db_ai[1]}\")\n",
        "print(f\"bi coefficient: {chebyshev1db_bi[1]}\")\n",
        "print(f\"Lowpass Chebyshev R1: {lowpass_chebyshev_r1_1:.2f} ohms\")\n",
        "print(f\"Lospass Chebyshev R2: {lowpass_chebyshev_r2_1:.2f} ohms\")\n",
        "print(f\"Lowpass Chebyshev C1: {capacitor1:.2e} farads\")\n",
        "print(f\"Lowpass Chebyshev C2: {capacitor2:.2e} farads\")"
      ],
      "metadata": {
        "colab": {
          "base_uri": "https://localhost:8080/"
        },
        "id": "kCbUG9qna5iU",
        "outputId": "730320b7-fee8-4066-8507-1c07748e8833"
      },
      "execution_count": null,
      "outputs": [
        {
          "output_type": "stream",
          "name": "stdout",
          "text": [
            "ai coefficient: 1.1399\n",
            "bi coefficient: 4.5167\n",
            "Lowpass Chebyshev R1: 10510.97 ohms\n",
            "Lospass Chebyshev R2: 19585.36 ohms\n",
            "Lowpass Chebyshev C1: 2.20e-09 farads\n",
            "Lowpass Chebyshev C2: 3.36e-08 farads\n"
          ]
        }
      ]
    },
    {
      "cell_type": "code",
      "source": [
        "chebyshev1db_ai = np.array([6.3634, 1.1399, 0.3939, 0.1616, 0.0455])\n",
        "chebyshev1db_bi = np.array([22.7468, 4.5167, 1.9665, 1.2569, 1.0277])\n",
        "\n",
        "fclow = 2740\n",
        "\n",
        "capacitor1 = 500e-12\n",
        "# Use chebyshev1db_ai[2] and chebyshev1db_bi[2]\n",
        "capacitor2 = 1.1 * ((4 * chebyshev1db_bi[2]) / (chebyshev1db_ai[2])**2) * capacitor1\n",
        "# Use chebyshev1db_ai[2] and chebyshev1db_bi[2] in calculations\n",
        "lowpass_chebyshev_r1_1 = ((chebyshev1db_ai[2] * capacitor2) - (np.sqrt((chebyshev1db_ai[2] * capacitor2)**2 - (4 * chebyshev1db_bi[2] * capacitor1 * capacitor2)))) / (4 * np.pi * fclow * capacitor1 * capacitor2)\n",
        "lowpass_chebyshev_r2_1 = ((chebyshev1db_ai[2] * capacitor2) + (np.sqrt((chebyshev1db_ai[2] * capacitor2)**2 - (4 * chebyshev1db_bi[2] * capacitor1 * capacitor2)))) / (4 * np.pi * fclow * capacitor1 * capacitor2)\n",
        "\n",
        "# Update print statements to reflect Chebyshev calculations and position\n",
        "print(f\"ai coefficient: {chebyshev1db_ai[2]}\")\n",
        "print(f\"bi coefficient: {chebyshev1db_bi[2]}\")\n",
        "print(f\"Lowpass Chebyshev R1: {lowpass_chebyshev_r1_1:.2f} ohms\")\n",
        "print(f\"Lospass Chebyshev R2: {lowpass_chebyshev_r2_1:.2f} ohms\")\n",
        "print(f\"Lowpass Chebyshev C1: {capacitor1:.2e} farads\")\n",
        "print(f\"Lowpass Chebyshev C2: {capacitor2:.2e} farads\")"
      ],
      "metadata": {
        "colab": {
          "base_uri": "https://localhost:8080/"
        },
        "id": "xqBtREqMbZCQ",
        "outputId": "20f734f8-0b54-41d6-d086-47b36ab7d940"
      },
      "execution_count": null,
      "outputs": [
        {
          "output_type": "stream",
          "name": "stdout",
          "text": [
            "ai coefficient: 0.3939\n",
            "bi coefficient: 1.9665\n",
            "Lowpass Chebyshev R1: 15981.40 ohms\n",
            "Lospass Chebyshev R2: 29778.55 ohms\n",
            "Lowpass Chebyshev C1: 5.00e-10 farads\n",
            "Lowpass Chebyshev C2: 2.79e-08 farads\n"
          ]
        }
      ]
    },
    {
      "cell_type": "code",
      "source": [
        "chebyshev1db_ai = np.array([6.3634, 1.1399, 0.3939, 0.1616, 0.0455])\n",
        "chebyshev1db_bi = np.array([22.7468, 4.5167, 1.9665, 1.2569, 1.0277])\n",
        "\n",
        "fclow = 2740\n",
        "\n",
        "capacitor1 = 220e-12\n",
        "# Use chebyshev1db_ai[3] and chebyshev1db_bi[3]\n",
        "capacitor2 = 1.1 * ((4 * chebyshev1db_bi[3]) / (chebyshev1db_ai[3])**2) * capacitor1\n",
        "# Use chebyshev1db_ai[3] and chebyshev1db_bi[3] in calculations\n",
        "lowpass_chebyshev_r1_1 = ((chebyshev1db_ai[3] * capacitor2) - (np.sqrt((chebyshev1db_ai[3] * capacitor2)**2 - (4 * chebyshev1db_bi[3] * capacitor1 * capacitor2)))) / (4 * np.pi * fclow * capacitor1 * capacitor2)\n",
        "lowpass_chebyshev_r2_1 = ((chebyshev1db_ai[3] * capacitor2) + (np.sqrt((chebyshev1db_ai[3] * capacitor2)**2 - (4 * chebyshev1db_bi[3] * capacitor1 * capacitor2)))) / (4 * np.pi * fclow * capacitor1 * capacitor2)\n",
        "\n",
        "# Update print statements to reflect Chebyshev calculations and position\n",
        "print(f\"ai coefficient: {chebyshev1db_ai[3]}\")\n",
        "print(f\"bi coefficient: {chebyshev1db_bi[3]}\")\n",
        "print(f\"Lowpass Chebyshev R1: {lowpass_chebyshev_r1_1:.2f} ohms\")\n",
        "print(f\"Lospass Chebyshev R2: {lowpass_chebyshev_r2_1:.2f} ohms\")\n",
        "print(f\"Lowpass Chebyshev C1: {capacitor1:.2e} farads\")\n",
        "print(f\"Lowpass Chebyshev C2: {capacitor2:.2e} farads\")"
      ],
      "metadata": {
        "colab": {
          "base_uri": "https://localhost:8080/"
        },
        "id": "u1SKtJQvbZ88",
        "outputId": "44a9a9b3-d6e3-43bd-87a9-4335a0e761d8"
      },
      "execution_count": null,
      "outputs": [
        {
          "output_type": "stream",
          "name": "stdout",
          "text": [
            "ai coefficient: 0.1616\n",
            "bi coefficient: 1.2569\n",
            "Lowpass Chebyshev R1: 14901.08 ohms\n",
            "Lospass Chebyshev R2: 27765.55 ohms\n",
            "Lowpass Chebyshev C1: 2.20e-10 farads\n",
            "Lowpass Chebyshev C2: 4.66e-08 farads\n"
          ]
        }
      ]
    },
    {
      "cell_type": "code",
      "source": [
        "chebyshev1db_ai = np.array([6.3634, 1.1399, 0.3939, 0.1616, 0.0455])\n",
        "chebyshev1db_bi = np.array([22.7468, 4.5167, 1.9665, 1.2569, 1.0277])\n",
        "\n",
        "fclow = 2740\n",
        "\n",
        "capacitor1 = 50e-12\n",
        "# Use chebyshev1db_ai[4] and chebyshev1db_bi[4]\n",
        "capacitor2 = 1.1 * ((4 * chebyshev1db_bi[4]) / (chebyshev1db_ai[4])**2) * capacitor1\n",
        "# Use chebyshev1db_ai[4] and chebyshev1db_bi[4] in calculations\n",
        "lowpass_chebyshev_r1_1 = ((chebyshev1db_ai[4] * capacitor2) - (np.sqrt((chebyshev1db_ai[4] * capacitor2)**2 - (4 * chebyshev1db_bi[4] * capacitor1 * capacitor2)))) / (4 * np.pi * fclow * capacitor1 * capacitor2)\n",
        "lowpass_chebyshev_r2_1 = ((chebyshev1db_ai[4] * capacitor2) + (np.sqrt((chebyshev1db_ai[4] * capacitor2)**2 - (4 * chebyshev1db_bi[4] * capacitor1 * capacitor2)))) / (4 * np.pi * fclow * capacitor1 * capacitor2)\n",
        "\n",
        "# Update print statements to reflect Chebyshev calculations and position\n",
        "print(f\"ai coefficient: {chebyshev1db_ai[4]}\")\n",
        "print(f\"bi coefficient: {chebyshev1db_bi[4]}\")\n",
        "print(f\"Lowpass Chebyshev R1: {lowpass_chebyshev_r1_1:.2f} ohms\")\n",
        "print(f\"Lospass Chebyshev R2: {lowpass_chebyshev_r2_1:.2f} ohms\")\n",
        "print(f\"Lowpass Chebyshev C1: {capacitor1:.2e} farads\")\n",
        "print(f\"Lowpass Chebyshev C2: {capacitor2:.2e} farads\")"
      ],
      "metadata": {
        "colab": {
          "base_uri": "https://localhost:8080/"
        },
        "id": "SVj0k2EYbbh6",
        "outputId": "e579e9d8-8e44-4a4a-e6f3-197fdf48f348"
      },
      "execution_count": null,
      "outputs": [
        {
          "output_type": "stream",
          "name": "stdout",
          "text": [
            "ai coefficient: 0.0455\n",
            "bi coefficient: 1.0277\n",
            "Lowpass Chebyshev R1: 18460.37 ohms\n",
            "Lospass Chebyshev R2: 34397.66 ohms\n",
            "Lowpass Chebyshev C1: 5.00e-11 farads\n",
            "Lowpass Chebyshev C2: 1.09e-07 farads\n"
          ]
        }
      ]
    },
    {
      "cell_type": "markdown",
      "source": [
        "##Ejercicio 13.84"
      ],
      "metadata": {
        "id": "Za8S790Md20L"
      }
    },
    {
      "cell_type": "markdown",
      "source": [
        "pasabajas butterworth 4to orden"
      ],
      "metadata": {
        "id": "iyYEWZn9j7ed"
      }
    },
    {
      "cell_type": "code",
      "source": [
        "butterworth_ai = np.array([1.8478,0.7654])\n",
        "butterworth_bi = np.array([1,1])\n",
        "\n",
        "fclow = 67\n",
        "\n",
        "capacitor1 = 220e-9\n",
        "capacitor2 = 1.1*(4/(butterworth_ai[0])**2)*capacitor1\n",
        "(butterworth_ai[0]*capacitor2)**2\n",
        "lowpass_butterworth_r1_1 = ((butterworth_ai[0]*capacitor2)-(np.sqrt((butterworth_ai[0]*capacitor2)**2 - (4*butterworth_bi[0]*capacitor1*capacitor2))))/(4*np.pi*fclow*capacitor1*capacitor2)\n",
        "lowpass_butterworth_r2_1 = ((butterworth_ai[0]*capacitor2)+(np.sqrt((butterworth_ai[0]*capacitor2)**2 - (4*butterworth_bi[0]*capacitor1*capacitor2))))/(4*np.pi*fclow*capacitor1*capacitor2)\n",
        "\n",
        "print(f\"Lowpass Butterworth R1: {lowpass_butterworth_r1_1:.2f} ohms\")\n",
        "print(f\"Lospass Butterworth R2: {lowpass_butterworth_r2_1:.2f} ohms\")\n",
        "print(f\"Lowpass Butterworth C1: {capacitor1:.2e} farads\")\n",
        "print(f\"Lowpass Butterworth C2: {capacitor2:.2e} farads\")"
      ],
      "metadata": {
        "colab": {
          "base_uri": "https://localhost:8080/"
        },
        "id": "7pXdkGSzd4xA",
        "outputId": "8db3aeba-d17b-4516-cd67-40751c6da378"
      },
      "execution_count": null,
      "outputs": [
        {
          "output_type": "stream",
          "name": "stdout",
          "text": [
            "Lowpass Butterworth R1: 6967.98 ohms\n",
            "Lospass Butterworth R2: 12983.61 ohms\n",
            "Lowpass Butterworth C1: 2.20e-07 farads\n",
            "Lowpass Butterworth C2: 2.84e-07 farads\n"
          ]
        }
      ]
    },
    {
      "cell_type": "code",
      "source": [
        "butterworth_ai = np.array([1.8478,0.7654])\n",
        "butterworth_bi = np.array([1,1])\n",
        "\n",
        "fclow = 67\n",
        "\n",
        "capacitor1 = 22e-9\n",
        "# Use butterworth_ai[1] instead of butterworth_ai[0]\n",
        "capacitor2 = 1.1 * (4 / (butterworth_ai[1])**2) * capacitor1\n",
        "# Use butterworth_ai[1] and butterworth_bi[1] in calculations\n",
        "lowpass_butterworth_r1_1 = ((butterworth_ai[1] * capacitor2) - (np.sqrt((butterworth_ai[1] * capacitor2)**2 - (4 * butterworth_bi[1] * capacitor1 * capacitor2)))) / (4 * np.pi * fclow * capacitor1 * capacitor2)\n",
        "lowpass_butterworth_r2_1 = ((butterworth_ai[1] * capacitor2) + (np.sqrt((butterworth_ai[1] * capacitor2)**2 - (4 * butterworth_bi[1] * capacitor1 * capacitor2)))) / (4 * np.pi * fclow * capacitor1 * capacitor2)\n",
        "\n",
        "print(f\"Lowpass Butterworth R1: {lowpass_butterworth_r1_1:.2f} ohms\")\n",
        "print(f\"Lospass Butterworth R2: {lowpass_butterworth_r2_1:.2f} ohms\")\n",
        "print(f\"Lowpass Butterworth C1: {capacitor1:.2e} farads\")\n",
        "print(f\"Lowpass Butterworth C2: {capacitor2:.2e} farads\")"
      ],
      "metadata": {
        "colab": {
          "base_uri": "https://localhost:8080/"
        },
        "id": "5mpVghmSkTPW",
        "outputId": "ecab1262-02ce-4834-b68c-cb347c9ded8d"
      },
      "execution_count": null,
      "outputs": [
        {
          "output_type": "stream",
          "name": "stdout",
          "text": [
            "Lowpass Butterworth R1: 28862.93 ohms\n",
            "Lospass Butterworth R2: 53781.02 ohms\n",
            "Lowpass Butterworth C1: 2.20e-08 farads\n",
            "Lowpass Butterworth C2: 1.65e-07 farads\n"
          ]
        }
      ]
    },
    {
      "cell_type": "markdown",
      "source": [
        "pasa-altas butterworth 3er orden"
      ],
      "metadata": {
        "id": "b0Jp0iyDloNB"
      }
    },
    {
      "cell_type": "code",
      "source": [
        "butterworth_ai = np.array([1,1])\n",
        "butterworth_bi = np.array([0,1])\n",
        "\n",
        "fchigh = 180\n",
        "\n",
        "capacitor = 100e-9\n",
        "highpass_butterworth_r1 = (butterworth_ai[0])/(2*np.pi*fchigh*capacitor)\n",
        "print(f\"Highpass Butterworth R1: {highpass_butterworth_r1:.2f} ohms\")\n",
        "print(f\"Highpass Butterworth C: {capacitor:.2e} farads\")"
      ],
      "metadata": {
        "colab": {
          "base_uri": "https://localhost:8080/"
        },
        "id": "LUvipOg1mL5e",
        "outputId": "a80e6473-8b7c-4f6b-df83-795e9af5320f"
      },
      "execution_count": null,
      "outputs": [
        {
          "output_type": "stream",
          "name": "stdout",
          "text": [
            "Highpass Butterworth R1: 8841.94 ohms\n",
            "Highpass Butterworth C: 1.00e-07 farads\n"
          ]
        }
      ]
    },
    {
      "cell_type": "code",
      "source": [
        "butterworth_ai = np.array([1,1])\n",
        "butterworth_bi = np.array([0,1])\n",
        "\n",
        "fchigh = 180\n",
        "\n",
        "capacitor = 100e-9\n",
        "highpass_butterworth_r1 = 1/(np.pi*fchigh*butterworth_ai[1]*capacitor)\n",
        "highpass_butterworth_r2 = butterworth_ai[1]/(4*np.pi*fchigh*butterworth_bi[1]*capacitor)\n",
        "\n",
        "print(f\"Highpass Butterworth R1: {highpass_butterworth_r1:.2f} ohms\")\n",
        "print(f\"Highpass Butterworth R2: {highpass_butterworth_r2:.2f} ohms\")\n",
        "print(f\"Highpass Butterworth C: {capacitor:.2e} farads\")"
      ],
      "metadata": {
        "colab": {
          "base_uri": "https://localhost:8080/"
        },
        "id": "PoSvrfQKlqP4",
        "outputId": "49e2278e-22b4-452b-ccba-81fefa9ebe09"
      },
      "execution_count": null,
      "outputs": [
        {
          "output_type": "stream",
          "name": "stdout",
          "text": [
            "Highpass Butterworth R1: 17683.88 ohms\n",
            "Highpass Butterworth R2: 4420.97 ohms\n",
            "Highpass Butterworth C: 1.00e-07 farads\n"
          ]
        }
      ]
    },
    {
      "cell_type": "markdown",
      "source": [
        "##PROYECTO FILTRO"
      ],
      "metadata": {
        "id": "Jn0d9QFS12r5"
      }
    },
    {
      "cell_type": "markdown",
      "source": [
        "FILTRO 1"
      ],
      "metadata": {
        "id": "1LejojPu44Hl"
      }
    },
    {
      "cell_type": "code",
      "source": [
        "butterworth_ai = np.array([1,1.6180,0.6180])\n",
        "butterworth_bi = np.array([0,1,1])\n",
        "\n",
        "fclow = 3800\n",
        "\n",
        "capacitor1 = 1e-9\n",
        "\n",
        "lowpass_butterworth_r1_1 = (butterworth_ai[0])/(2*np.pi*capacitor1*fclow)\n",
        "\n",
        "print(f\"Lowpass Butterworth R1: {lowpass_butterworth_r1_1:.2f} ohms\")\n",
        "print(f\"Lowpass Butterworth C1: {capacitor1:.2e} farads\")"
      ],
      "metadata": {
        "id": "SNnItMz546Q3",
        "outputId": "160adf06-ab74-4b70-9060-bb7b16962af5",
        "colab": {
          "base_uri": "https://localhost:8080/"
        }
      },
      "execution_count": 2,
      "outputs": [
        {
          "output_type": "stream",
          "name": "stdout",
          "text": [
            "Lowpass Butterworth R1: 41882.88 ohms\n",
            "Lowpass Butterworth C1: 1.00e-09 farads\n"
          ]
        }
      ]
    },
    {
      "cell_type": "markdown",
      "source": [
        "FILTRO 2"
      ],
      "metadata": {
        "id": "Hm0_hjHl3-In"
      }
    },
    {
      "cell_type": "code",
      "source": [
        "butterworth_ai = np.array([1,1.6180,0.6180])\n",
        "butterworth_bi = np.array([0,1,1])\n",
        "\n",
        "fclow = 3800\n",
        "\n",
        "capacitor1 = 1e-9\n",
        "capacitor2 = capacitor2 = 1.1 * (4 / (butterworth_ai[1])**2) * capacitor1\n",
        "\n",
        "lowpass_butterworth_r1_1 = ((butterworth_ai[1]*capacitor2)-(np.sqrt((butterworth_ai[1]*capacitor2)**2 - (4*butterworth_bi[1]*capacitor1*capacitor2))))/(4*np.pi*fclow*capacitor1*capacitor2)\n",
        "lowpass_butterworth_r2_1 = ((butterworth_ai[1]*capacitor2)+(np.sqrt((butterworth_ai[1]*capacitor2)**2 - (4*butterworth_bi[1]*capacitor1*capacitor2))))/(4*np.pi*fclow*capacitor1*capacitor2)\n",
        "\n",
        "print(f\"Lowpass Butterworth R1: {lowpass_butterworth_r1_1:.2f} ohms\")\n",
        "print(f\"Lospass Butterworth R2: {lowpass_butterworth_r2_1:.2f} ohms\")\n",
        "print(f\"Lowpass Butterworth C1: {capacitor1:.2e} farads\")\n",
        "print(f\"Lowpass Butterworth C2: {capacitor2:.2e} farads\")"
      ],
      "metadata": {
        "id": "HpjsPPCL14s1",
        "outputId": "6744ab9e-d6e3-40c2-abc3-81a12bcda0be",
        "colab": {
          "base_uri": "https://localhost:8080/"
        }
      },
      "execution_count": 3,
      "outputs": [
        {
          "output_type": "stream",
          "name": "stdout",
          "text": [
            "Lowpass Butterworth R1: 23667.07 ohms\n",
            "Lospass Butterworth R2: 44099.43 ohms\n",
            "Lowpass Butterworth C1: 1.00e-09 farads\n",
            "Lowpass Butterworth C2: 1.68e-09 farads\n"
          ]
        }
      ]
    },
    {
      "cell_type": "markdown",
      "source": [
        "FILTRO 3"
      ],
      "metadata": {
        "id": "6kYrJZeK4ccQ"
      }
    },
    {
      "cell_type": "code",
      "source": [
        "butterworth_ai = np.array([1,1.6180,0.6180])\n",
        "butterworth_bi = np.array([0,1,1])\n",
        "\n",
        "fclow = 3800\n",
        "\n",
        "capacitor1 = 1e-9\n",
        "capacitor2 = capacitor2 = 1.1 * (4 / (butterworth_ai[2])**2) * capacitor1\n",
        "\n",
        "lowpass_butterworth_r1_1 = ((butterworth_ai[2]*capacitor2)-(np.sqrt((butterworth_ai[2]*capacitor2)**2 - (4*butterworth_bi[2]*capacitor1*capacitor2))))/(4*np.pi*fclow*capacitor1*capacitor2)\n",
        "lowpass_butterworth_r2_1 = ((butterworth_ai[2]*capacitor2)+(np.sqrt((butterworth_ai[2]*capacitor2)**2 - (4*butterworth_bi[2]*capacitor1*capacitor2))))/(4*np.pi*fclow*capacitor1*capacitor2)\n",
        "\n",
        "print(f\"Lowpass Butterworth R1: {lowpass_butterworth_r1_1:.2f} ohms\")\n",
        "print(f\"Lospass Butterworth R2: {lowpass_butterworth_r2_1:.2f} ohms\")\n",
        "print(f\"Lowpass Butterworth C1: {capacitor1:.2e} farads\")\n",
        "print(f\"Lowpass Butterworth C2: {capacitor2:.2e} farads\")"
      ],
      "metadata": {
        "id": "wVkxL2Nx4ePX",
        "outputId": "4a0d3577-df9f-413f-e2df-001e8d346458",
        "colab": {
          "base_uri": "https://localhost:8080/"
        }
      },
      "execution_count": 8,
      "outputs": [
        {
          "output_type": "stream",
          "name": "stdout",
          "text": [
            "Lowpass Butterworth R1: 9039.71 ohms\n",
            "Lospass Butterworth R2: 16843.91 ohms\n",
            "Lowpass Butterworth C1: 1.00e-09 farads\n",
            "Lowpass Butterworth C2: 1.15e-08 farads\n"
          ]
        }
      ]
    },
    {
      "cell_type": "code",
      "source": [
        "import numpy as np\n",
        "import itertools\n",
        "\n",
        "e12_values = np.array([10, 12, 15, 18, 22, 27, 33, 39, 47, 56, 68, 82]) # Base E12 values\n",
        "decades = [1, 10, 100, 1000, 10000, 100000] # Multipliers for decades (added 100k decade)\n",
        "\n",
        "e12_resistors = []\n",
        "for decade in decades:\n",
        "    e12_resistors.extend(e12_values * decade)\n",
        "\n",
        "target_r1 = 9039.71\n",
        "target_r2 = 16843.91\n",
        "error_tolerance = 0.5\n",
        "\n",
        "def find_series_combination(target_resistance, max_resistors=5):\n",
        "    \"\"\"\n",
        "    Finds a series combination of E12 resistors within a given error tolerance.\n",
        "\n",
        "    Args:\n",
        "        target_resistance (float): The target resistance value.\n",
        "        max_resistors (int): The maximum number of resistors to use in a combination.\n",
        "\n",
        "    Returns:\n",
        "        tuple: A tuple containing the best combination (list of resistor values,\n",
        "               total resistance) and the minimum error, or None if no combination\n",
        "               is found within the tolerance.\n",
        "    \"\"\"\n",
        "    best_combination = None\n",
        "    min_error = float('inf')\n",
        "\n",
        "    for num_resistors in range(1, max_resistors + 1):\n",
        "        print(f\"Checking combinations of {num_resistors} resistors for {target_resistance:.2f} ohms...\")\n",
        "        for combination in itertools.product(e12_resistors, repeat=num_resistors):\n",
        "            series_r = sum(combination)\n",
        "            current_error = (abs(series_r - target_resistance) / target_resistance) * 100\n",
        "\n",
        "            if current_error < error_tolerance:\n",
        "                if current_error < min_error:\n",
        "                    min_error = current_error\n",
        "                    best_combination = (list(combination), series_r)\n",
        "\n",
        "    return best_combination, min_error\n",
        "\n",
        "# Find combination for R1\n",
        "best_r1_combination, min_r1_error = find_series_combination(target_r1, max_resistors=3)\n",
        "\n",
        "if best_r1_combination:\n",
        "    print(f\"\\nClosest series combination for R1 ({target_r1:.2f} ohms) within {error_tolerance}% error:\")\n",
        "    print(f\"  Resistors: {best_r1_combination[0]}\")\n",
        "    print(f\"  Total Resistance: {best_r1_combination[1]:.2f} ohms\")\n",
        "    print(f\"  Error: {min_r1_error:.4f}%\")\n",
        "else:\n",
        "    print(f\"\\nNo series combination found for R1 within {error_tolerance}% error using up to 5 E12 resistors.\")\n",
        "\n",
        "# Find combination for R2\n",
        "best_r2_combination, min_r2_error = find_series_combination(target_r2, max_resistors=3)\n",
        "\n",
        "if best_r2_combination:\n",
        "    print(f\"\\nClosest series combination for R2 ({target_r2:.2f} ohms) within {error_tolerance}% error:\")\n",
        "    print(f\"  Resistors: {best_r2_combination[0]}\")\n",
        "    print(f\"  Total Resistance: {best_r2_combination[1]:.2f} ohms\")\n",
        "    print(f\"  Error: {min_r2_error:.4f}%\")\n",
        "else:\n",
        "    print(f\"\\nNo series combination found for R2 within {error_tolerance}% error using up to 5 E12 resistors.\")"
      ],
      "metadata": {
        "id": "FaYIf-TRU9Yd",
        "outputId": "348e9926-4c28-4f5d-961f-cbe9ee07e08b",
        "colab": {
          "base_uri": "https://localhost:8080/"
        }
      },
      "execution_count": 12,
      "outputs": [
        {
          "output_type": "stream",
          "name": "stdout",
          "text": [
            "Checking combinations of 1 resistors for 9039.71 ohms...\n",
            "Checking combinations of 2 resistors for 9039.71 ohms...\n",
            "Checking combinations of 3 resistors for 9039.71 ohms...\n",
            "\n",
            "Closest series combination for R1 (9039.71 ohms) within 0.5% error:\n",
            "  Resistors: [np.int64(39), np.int64(2200), np.int64(6800)]\n",
            "  Total Resistance: 9039.00 ohms\n",
            "  Error: 0.0079%\n",
            "Checking combinations of 1 resistors for 16843.91 ohms...\n",
            "Checking combinations of 2 resistors for 16843.91 ohms...\n",
            "Checking combinations of 3 resistors for 16843.91 ohms...\n",
            "\n",
            "Closest series combination for R2 (16843.91 ohms) within 0.5% error:\n",
            "  Resistors: [np.int64(47), np.int64(1800), np.int64(15000)]\n",
            "  Total Resistance: 16847.00 ohms\n",
            "  Error: 0.0183%\n"
          ]
        }
      ]
    }
  ]
}